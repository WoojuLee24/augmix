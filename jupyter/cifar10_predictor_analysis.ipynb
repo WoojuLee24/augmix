{
 "cells": [
  {
   "cell_type": "code",
   "execution_count": 2,
   "metadata": {},
   "outputs": [
    {
     "name": "stdout",
     "output_type": "stream",
     "text": [
      "Collecting easydict\n",
      "  Downloading easydict-1.10.tar.gz (6.4 kB)\n",
      "Building wheels for collected packages: easydict\n",
      "  Building wheel for easydict (setup.py) ... \u001b[?25ldone\n",
      "\u001b[?25h  Created wheel for easydict: filename=easydict-1.10-py3-none-any.whl size=6506 sha256=374dfd4a4d1834a7fcd3c453be0f63aadbe5e6602e839b4ca46a142334e426f9\n",
      "  Stored in directory: /root/.cache/pip/wheels/8d/d6/16/3fd964549d5c27d89d6c5fdb4306283ca55be1799f3d48a67b\n",
      "Successfully built easydict\n",
      "Installing collected packages: easydict\n",
      "Successfully installed easydict-1.10\n",
      "\u001b[33mWARNING: Running pip as the 'root' user can result in broken permissions and conflicting behaviour with the system package manager. It is recommended to use a virtual environment instead: https://pip.pypa.io/warnings/venv\u001b[0m\n"
     ]
    }
   ],
   "source": [
    "!pip3 install easydict"
   ]
  },
  {
   "cell_type": "code",
   "execution_count": 95,
   "metadata": {},
   "outputs": [
    {
     "name": "stdout",
     "output_type": "stream",
     "text": [
      "Files already downloaded and verified\n",
      "Files already downloaded and verified\n",
      "Files already downloaded and verified\n"
     ]
    }
   ],
   "source": [
    "import os\n",
    "import sys\n",
    "import numpy as np\n",
    "import torch\n",
    "import torch.nn as nn\n",
    "import torch.nn.functional as F\n",
    "\n",
    "import easydict\n",
    "import matplotlib.pyplot as plt\n",
    "from PIL import Image\n",
    "\n",
    "module_path = os.path.abspath('/ws/external')\n",
    "if module_path not in sys.path:\n",
    "    sys.path.append(module_path)\n",
    "from datasets.builder import build_dataset\n",
    "from datasets.harddataset import HardDataset\n",
    "\n",
    "config = easydict.EasyDict({\n",
    "    'batch_size': 1\n",
    "})\n",
    "\n",
    "###############\n",
    "### Dataset ###\n",
    "###############\n",
    "args = easydict.EasyDict({\n",
    "    'dataset': 'cifar10',\n",
    "    'aug': 'augmix',\n",
    "    'no_jsd': False,\n",
    "    'all_ops': False,\n",
    "    'mixture_width': 3,\n",
    "    'mixture_depth': -1,\n",
    "    'aug_severity': 3,\n",
    "    'mixture_coefficient': 1.0,\n",
    "})\n",
    "hard_cifar10_dir = '/ws/data/log/cifar10/baselines/augmix_b256_jsdv3_lw12/false_images'\n",
    "train_dataset, test_dataset, num_classes, base_c_path = build_dataset(args)\n",
    "train_dataset = HardDataset(train_dataset, hard_cifar10_dir)\n",
    "\n",
    "train_loader = torch.utils.data.DataLodar(train_dataset,\n",
    "                                          batch_size)"
   ]
  },
  {
   "cell_type": "code",
   "execution_count": null,
   "metadata": {},
   "outputs": [],
   "source": []
  },
  {
   "cell_type": "code",
   "execution_count": null,
   "metadata": {},
   "outputs": [],
   "source": []
  },
  {
   "cell_type": "code",
   "execution_count": null,
   "metadata": {},
   "outputs": [],
   "source": []
  },
  {
   "cell_type": "code",
   "execution_count": null,
   "metadata": {},
   "outputs": [],
   "source": []
  },
  {
   "cell_type": "code",
   "execution_count": null,
   "metadata": {},
   "outputs": [],
   "source": []
  },
  {
   "cell_type": "code",
   "execution_count": null,
   "metadata": {},
   "outputs": [],
   "source": []
  },
  {
   "cell_type": "code",
   "execution_count": null,
   "metadata": {},
   "outputs": [],
   "source": []
  },
  {
   "cell_type": "code",
   "execution_count": null,
   "metadata": {},
   "outputs": [],
   "source": []
  },
  {
   "cell_type": "code",
   "execution_count": null,
   "metadata": {},
   "outputs": [],
   "source": []
  },
  {
   "cell_type": "code",
   "execution_count": 84,
   "metadata": {},
   "outputs": [],
   "source": [
    "parent_dir = '/ws/data/log/cifar10/baselines/augmix_b256_jsdv3_lw12/false_images'\n",
    "file_list = os.listdir(parent_dir)\n",
    "\n",
    "files = dict()\n",
    "for filename in file_list:\n",
    "    fn = filename.split('_')\n",
    "    \n",
    "    index = int(fn[0][1:])\n",
    "    corruption = '_'.join(fn[1:-3])\n",
    "    severity = int(fn[-3][1:])\n",
    "    target = int(fn[-2][1:])\n",
    "    pred = int(fn[-1].split('.png')[0][1:])\n",
    "    \n",
    "    if not index in files:\n",
    "        files[index] = []\n",
    "        \n",
    "    files[index].append(\n",
    "        {'corruption':corruption, \n",
    "         'severity':severity, \n",
    "         'target':target, \n",
    "         'pred':pred,\n",
    "         'filename':filename})\n",
    "    \n",
    "    # print(fn)\n",
    "\n",
    "# print(files)\n"
   ]
  },
  {
   "cell_type": "code",
   "execution_count": 87,
   "metadata": {},
   "outputs": [
    {
     "name": "stdout",
     "output_type": "stream",
     "text": [
      "f97_frost_s4_t0_p2.png\n"
     ]
    }
   ],
   "source": [
    "index = 96\n",
    "index = 97\n",
    "if index in files.keys():\n",
    "    files_ = files[index]\n",
    "    for file in files_:\n",
    "        print(file['filename'])\n",
    "        break\n",
    "else:\n",
    "    print('no')"
   ]
  },
  {
   "cell_type": "code",
   "execution_count": 69,
   "metadata": {},
   "outputs": [
    {
     "data": {
      "text/plain": [
       "6"
      ]
     },
     "execution_count": 69,
     "metadata": {},
     "output_type": "execute_result"
    }
   ],
   "source": [
    "key, values = sorted_files[6]\n",
    "key"
   ]
  }
 ],
 "metadata": {
  "kernelspec": {
   "display_name": "Python 3 (ipykernel)",
   "language": "python",
   "name": "python3"
  },
  "language_info": {
   "codemirror_mode": {
    "name": "ipython",
    "version": 3
   },
   "file_extension": ".py",
   "mimetype": "text/x-python",
   "name": "python",
   "nbconvert_exporter": "python",
   "pygments_lexer": "ipython3",
   "version": "3.7.13"
  }
 },
 "nbformat": 4,
 "nbformat_minor": 1
}
